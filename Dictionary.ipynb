{
  "nbformat": 4,
  "nbformat_minor": 0,
  "metadata": {
    "colab": {
      "provenance": [],
      "authorship_tag": "ABX9TyPvRqwZIfIfy7H2td6Wm/n1",
      "include_colab_link": true
    },
    "kernelspec": {
      "name": "python3",
      "display_name": "Python 3"
    },
    "language_info": {
      "name": "python"
    }
  },
  "cells": [
    {
      "cell_type": "markdown",
      "metadata": {
        "id": "view-in-github",
        "colab_type": "text"
      },
      "source": [
        "<a href=\"https://colab.research.google.com/github/Dhakal1997/30dayDataScience/blob/main/Dictionary.ipynb\" target=\"_parent\"><img src=\"https://colab.research.google.com/assets/colab-badge.svg\" alt=\"Open In Colab\"/></a>"
      ]
    },
    {
      "source": [
        "\n",
        "import requests\n",
        "\n",
        "# Define your contacts dictionary\n",
        "contacts = {}\n",
        "\n",
        "# Function to fetch contacts from the API\n",
        "def fetch_contacts():\n",
        "    url = \"https://jsonplaceholder.typicode.com/users\"  # Replace with your API URL\n",
        "    try:\n",
        "        response = requests.get(url)\n",
        "        response.raise_for_status()  # Check for HTTP errors\n",
        "        data = response.json()  # Parse the JSON response\n",
        "\n",
        "        # Assuming the response contains a list of contacts in 'contacts' key\n",
        "        for contact in data['contacts']:\n",
        "            # Store each contact in the contacts dictionary\n",
        "            name = contact['name']\n",
        "            contacts[name] = {\n",
        "                \"age\": contact['id'],\n",
        "                \"relation\": contact['website'],\n",
        "                \"mobile\": contact['phone']\n",
        "            }\n",
        "\n",
        "        print(\"Contacts fetched successfully and stored in dictionary.\")\n",
        "    except requests.exceptions.HTTPError as http_err:\n",
        "        print(f\"HTTP error occurred: {http_err}\")\n",
        "    except Exception as err:\n",
        "        print(f\"An error occurred: {err}\")\n",
        "\n",
        "# Call the function to fetch and store contacts\n",
        "fetch_contacts()\n",
        "\n",
        "# Display the contacts\n",
        "for name, info in contacts.items():\n",
        "    print(f\"Name: {name}, Age: {info['age']}, Relation: {info['relation']}, Mobile: {info['mobile']}\")\n",
        "\n",
        "\n",
        "while True:\n",
        "    print(\"Welcome to my Contacts Book Application. \\n\")\n",
        "    print(\"1. Create a contact \\n\")\n",
        "    print(\"2. Search a contact \\n\")\n",
        "    print(\"3. Update a contact \\n\")\n",
        "    print(\"4. Delete a contact \\n\")\n",
        "    print(\"5. Count a contact \\n\")\n",
        "    print(\"6. View  all contacts \\n\")\n",
        "    print(\"7. exit a contact \\n\")\n",
        "\n",
        "    choice = input(\"Enter your choice =\")\n",
        "\n",
        "    if choice == '1': #Fixed indentation\n",
        "        name = input(\"Enter your name :\") # Fixed indentation and missing \"\n",
        "        if name in contacts:\n",
        "            print(f\"Name {name} already exists.\")\n",
        "        else:\n",
        "            print(\"You want to create a contact.\\n\")\n",
        "\n",
        "            age = input(\"Enter your age:\")\n",
        "            relation = input(\"Enter your relation: \")\n",
        "            mobile = input(\"Enter your phone number: \")\n",
        "            contacts[name] = {\"age\":int(age), \"rel\":{relation}, \"monile\":{mobile}} # Changed monile to mobile\n",
        "            print(f\"Your Name:{name} is successfully added!\")# Added space after {name}\n",
        "\n",
        "    if choice == '2':\n",
        "      name = input(\"Enter your name you want to search :\")\n",
        "      if name not in contacts:\n",
        "        print(f\"Name {name} does not exists.\")\n",
        "      else:\n",
        "        print(f\"Name:{name},\\n Age:{age}, \\n Relation:{relation}, \\n Mobile:{mobile}\")\n",
        "\n",
        "    if choice == '3':\n",
        "      name = input(\"Enter your name you want to update :\")\n",
        "      if name not in contacts:\n",
        "        print(f\"Name {name} does not exists.\")\n",
        "      else:\n",
        "        print(\"You want to update a contact.\\n\")\n",
        "        name = input(\"Enter your Updated name :\")\n",
        "        age = input(\"Enter your Updated age :\")\n",
        "        relation = input(\"Enter your updated relation: \")\n",
        "        mobile = input(\"Enter your updated phone number: \")\n",
        "        contacts[name] = {\"age\":int(age), \"rel\":{relation}, \"monile\":{mobile}}\n",
        "\n",
        "    if choice == '4':\n",
        "      name = input(\"Enter your name you want to delete :\")\n",
        "      if name not in contacts:\n",
        "        print(f\"Name {name} does not exists.\")\n",
        "      else:\n",
        "        del contacts[name]\n",
        "\n",
        "    if choice == '5':\n",
        "      print(f\"Total contacts are {len(contacts)}\")\n",
        "\n",
        "    if choice == '6':\n",
        "      print(\"All Contacts are .\\n\")\n",
        "      print(contacts)\n",
        "\n",
        "    if choice == '7':\n",
        "      print(\"Thank you for using my application\")\n",
        "      break\n",
        "\n",
        "    else:\n",
        "      print(\"Invalid input\")\n",
        "\n",
        "\n",
        "\n"
      ],
      "cell_type": "code",
      "metadata": {
        "colab": {
          "base_uri": "https://localhost:8080/"
        },
        "id": "5moMXg9q84td",
        "outputId": "dfcfeb07-39b1-4c83-b93f-142c9fcf1f14"
      },
      "execution_count": null,
      "outputs": [
        {
          "metadata": {
            "tags": null
          },
          "name": "stdout",
          "output_type": "stream",
          "text": [
            "An error occurred: list indices must be integers or slices, not str\n",
            "Welcome to my Contacts Book Application. \n",
            "\n",
            "1. Create a contact \n",
            "\n",
            "2. Search a contact \n",
            "\n",
            "3. Update a contact \n",
            "\n",
            "4. Delete a contact \n",
            "\n",
            "5. Count a contact \n",
            "\n",
            "6. View  all contacts \n",
            "\n",
            "7. exit a contact \n",
            "\n"
          ]
        }
      ]
    },
    {
      "cell_type": "code",
      "source": [
        "import requests\n",
        "\n"
      ],
      "metadata": {
        "colab": {
          "base_uri": "https://localhost:8080/"
        },
        "id": "Zpc8UyMLcsus",
        "outputId": "075f069c-6f04-4198-f924-5b209a047807"
      },
      "execution_count": 13,
      "outputs": [
        {
          "output_type": "execute_result",
          "data": {
            "text/plain": [
              "<Response [400]>"
            ]
          },
          "metadata": {},
          "execution_count": 13
        }
      ]
    }
  ]
}